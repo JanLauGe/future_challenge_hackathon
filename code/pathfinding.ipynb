{
 "cells": [
  {
   "cell_type": "code",
   "execution_count": 15,
   "metadata": {
    "collapsed": true
   },
   "outputs": [],
   "source": [
    "import numpy as np\n",
    "import pandas as pd\n",
    "import h5py"
   ]
  },
  {
   "cell_type": "code",
   "execution_count": 4,
   "metadata": {},
   "outputs": [
    {
     "name": "stdout",
     "output_type": "stream",
     "text": [
      "[(10, 13), (9, 12), (8, 11), (8, 10), (8, 9), (8, 8), (8, 7), (8, 6), (8, 5), (8, 4), (8, 3), (8, 2), (7, 1), (6, 2), (6, 3), (6, 4), (6, 5), (6, 6), (6, 7), (6, 8), (6, 9), (6, 10), (6, 11), (5, 12), (4, 11), (4, 10), (4, 9), (4, 8), (4, 7), (4, 6), (4, 5), (4, 4), (4, 3), (4, 2), (3, 1), (2, 2), (2, 3), (2, 4), (2, 5), (2, 6), (2, 7), (2, 8), (2, 9), (2, 10), (2, 11), (1, 12), (0, 11), (0, 10), (0, 9), (0, 8), (0, 7), (0, 6), (0, 5), (0, 4), (0, 3), (0, 2), (0, 1)]\n"
     ]
    }
   ],
   "source": [
    "# Author: Christian Careaga (christian.careaga7@gmail.com)\n",
    "# A* Pathfinding in Python (2.7)\n",
    "# Please give credit if used\n",
    "\n",
    "import numpy\n",
    "from heapq import *\n",
    "\n",
    "\n",
    "def heuristic(a, b):\n",
    "    return (b[0] - a[0]) ** 2 + (b[1] - a[1]) ** 2\n",
    "\n",
    "def astar(array, start, goal):\n",
    "\n",
    "    neighbors = [(0,1),(0,-1),(1,0),(-1,0),(1,1),(1,-1),(-1,1),(-1,-1)]\n",
    "\n",
    "    close_set = set()\n",
    "    came_from = {}\n",
    "    gscore = {start:0}\n",
    "    fscore = {start:heuristic(start, goal)}\n",
    "    oheap = []\n",
    "\n",
    "    heappush(oheap, (fscore[start], start))\n",
    "    \n",
    "    while oheap:\n",
    "\n",
    "        current = heappop(oheap)[1]\n",
    "\n",
    "        if current == goal:\n",
    "            data = []\n",
    "            while current in came_from:\n",
    "                data.append(current)\n",
    "                current = came_from[current]\n",
    "            return data\n",
    "\n",
    "        close_set.add(current)\n",
    "        for i, j in neighbors:\n",
    "            neighbor = current[0] + i, current[1] + j            \n",
    "            tentative_g_score = gscore[current] + heuristic(current, neighbor)\n",
    "            if 0 <= neighbor[0] < array.shape[0]:\n",
    "                if 0 <= neighbor[1] < array.shape[1]:                \n",
    "                    if array[neighbor[0]][neighbor[1]] == 1:\n",
    "                        continue\n",
    "                else:\n",
    "                    # array bound y walls\n",
    "                    continue\n",
    "            else:\n",
    "                # array bound x walls\n",
    "                continue\n",
    "                \n",
    "            if neighbor in close_set and tentative_g_score >= gscore.get(neighbor, 0):\n",
    "                continue\n",
    "                \n",
    "            if  tentative_g_score < gscore.get(neighbor, 0) or neighbor not in [i[1]for i in oheap]:\n",
    "                came_from[neighbor] = current\n",
    "                gscore[neighbor] = tentative_g_score\n",
    "                fscore[neighbor] = tentative_g_score + heuristic(neighbor, goal)\n",
    "                heappush(oheap, (fscore[neighbor], neighbor))\n",
    "                \n",
    "    return False\n",
    "\n",
    "'''Here is an example of using my algo with a numpy array,\n",
    "   astar(array, start, destination)\n",
    "   astar function returns a list of points (shortest path)'''\n",
    "\n",
    "nmap = numpy.array([\n",
    "    [0,0,0,0,0,0,0,0,0,0,0,0,0,0],\n",
    "    [1,1,1,1,1,1,1,1,1,1,1,1,0,1],\n",
    "    [0,0,0,0,0,0,0,0,0,0,0,0,0,0],\n",
    "    [1,0,1,1,1,1,1,1,1,1,1,1,1,1],\n",
    "    [0,0,0,0,0,0,0,0,0,0,0,0,0,0],\n",
    "    [1,1,1,1,1,1,1,1,1,1,1,1,0,1],\n",
    "    [0,0,0,0,0,0,0,0,0,0,0,0,0,0],\n",
    "    [1,0,1,1,1,1,1,1,1,1,1,1,1,1],\n",
    "    [0,0,0,0,0,0,0,0,0,0,0,0,0,0],\n",
    "    [1,1,1,1,1,1,1,1,1,1,1,1,0,1],\n",
    "    [0,0,0,0,0,0,0,0,0,0,0,0,0,0]])\n",
    "    \n",
    "print(astar(nmap, (0,0), (10,13)))"
   ]
  },
  {
   "cell_type": "code",
   "execution_count": 17,
   "metadata": {},
   "outputs": [],
   "source": [
    "# read city data\n",
    "city = pd.read_csv('../data/CityData.csv', header=0)"
   ]
  },
  {
   "cell_type": "code",
   "execution_count": 8,
   "metadata": {},
   "outputs": [],
   "source": [
    "# read h5 format back to numpy array\n",
    "h5f = h5py.File('../data/METdata.h5', 'r')\n",
    "train = h5f['train'][:]\n",
    "test = h5f['test'][:]\n",
    "h5f.close()"
   ]
  },
  {
   "cell_type": "code",
   "execution_count": 43,
   "metadata": {
    "collapsed": true
   },
   "outputs": [],
   "source": [
    "nmap = train[0,0,0,:,:]\n",
    "nmap = nmap > 15\n",
    "nmap = nmap.astype(int)"
   ]
  },
  {
   "cell_type": "code",
   "execution_count": 48,
   "metadata": {},
   "outputs": [
    {
     "data": {
      "text/plain": [
       "59007"
      ]
     },
     "execution_count": 48,
     "metadata": {},
     "output_type": "execute_result"
    }
   ],
   "source": [
    "nmap.sum()"
   ]
  },
  {
   "cell_type": "code",
   "execution_count": 25,
   "metadata": {},
   "outputs": [
    {
     "name": "stdout",
     "output_type": "stream",
     "text": [
      "   xid  yid\n",
      "0  142  328\n",
      "   xid  yid\n",
      "1   84  203\n"
     ]
    }
   ],
   "source": [
    "origin = city.loc[city.cid == 0, ['xid', 'yid']]\n",
    "destination1 = city.loc[city.cid == 1, ['xid', 'yid']]\n",
    "print(origin)\n",
    "print(destination1)"
   ]
  },
  {
   "cell_type": "code",
   "execution_count": 53,
   "metadata": {},
   "outputs": [],
   "source": [
    "city_from = (origin.iloc[0,0], origin.iloc[0,1])\n",
    "city_to = (destination1.iloc[0,0], destination1.iloc[0,1])"
   ]
  },
  {
   "cell_type": "code",
   "execution_count": 54,
   "metadata": {},
   "outputs": [
    {
     "name": "stdout",
     "output_type": "stream",
     "text": [
      "[(84, 203), (84, 204), (84, 205), (84, 206), (84, 207), (84, 208), (84, 209), (84, 210), (84, 211), (84, 212), (84, 213), (84, 214), (84, 215), (84, 216), (84, 217), (84, 218), (84, 219), (84, 220), (84, 221), (84, 222), (84, 223), (84, 224), (84, 225), (84, 226), (84, 227), (84, 228), (84, 229), (84, 230), (84, 231), (84, 232), (84, 233), (84, 234), (84, 235), (84, 236), (84, 237), (84, 238), (84, 239), (84, 240), (84, 241), (84, 242), (84, 243), (84, 244), (84, 245), (84, 246), (84, 247), (84, 248), (84, 249), (84, 250), (84, 251), (84, 252), (84, 253), (84, 254), (84, 255), (84, 256), (84, 257), (84, 258), (84, 259), (84, 260), (84, 261), (84, 262), (84, 263), (84, 264), (84, 265), (84, 266), (84, 267), (84, 268), (84, 269), (84, 270), (85, 271), (86, 272), (87, 273), (88, 274), (89, 275), (90, 276), (91, 277), (92, 278), (93, 279), (94, 280), (95, 281), (96, 282), (97, 283), (98, 284), (99, 285), (100, 286), (101, 287), (102, 288), (103, 289), (104, 290), (105, 291), (106, 292), (107, 293), (108, 294), (109, 295), (110, 296), (111, 297), (112, 298), (113, 299), (114, 300), (115, 301), (116, 302), (117, 303), (118, 304), (119, 305), (120, 306), (121, 307), (122, 308), (123, 309), (124, 310), (125, 311), (126, 312), (127, 313), (128, 314), (129, 315), (130, 316), (131, 317), (132, 318), (133, 319), (134, 320), (135, 321), (136, 322), (137, 323), (138, 324), (139, 325), (140, 326), (141, 327)]\n"
     ]
    }
   ],
   "source": [
    "print(astar(nmap, city_from, city_to))"
   ]
  },
  {
   "cell_type": "code",
   "execution_count": null,
   "metadata": {
    "collapsed": true
   },
   "outputs": [],
   "source": []
  },
  {
   "cell_type": "code",
   "execution_count": null,
   "metadata": {
    "collapsed": true
   },
   "outputs": [],
   "source": []
  },
  {
   "cell_type": "code",
   "execution_count": null,
   "metadata": {
    "collapsed": true
   },
   "outputs": [],
   "source": [
    "# try building a 3D map"
   ]
  },
  {
   "cell_type": "code",
   "execution_count": 57,
   "metadata": {},
   "outputs": [],
   "source": [
    "arr_world = test[0,:,0,:,:]"
   ]
  },
  {
   "cell_type": "code",
   "execution_count": 58,
   "metadata": {},
   "outputs": [
    {
     "data": {
      "text/plain": [
       "(18, 548, 421)"
      ]
     },
     "execution_count": 58,
     "metadata": {},
     "output_type": "execute_result"
    }
   ],
   "source": [
    "arr_world.shape"
   ]
  },
  {
   "cell_type": "code",
   "execution_count": null,
   "metadata": {
    "collapsed": true
   },
   "outputs": [],
   "source": []
  }
 ],
 "metadata": {
  "kernelspec": {
   "display_name": "Python 3",
   "language": "python",
   "name": "python3"
  },
  "language_info": {
   "codemirror_mode": {
    "name": "ipython",
    "version": 3
   },
   "file_extension": ".py",
   "mimetype": "text/x-python",
   "name": "python",
   "nbconvert_exporter": "python",
   "pygments_lexer": "ipython3",
   "version": "3.6.1"
  }
 },
 "nbformat": 4,
 "nbformat_minor": 2
}
